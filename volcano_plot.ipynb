{
 "cells": [
  {
   "cell_type": "code",
   "execution_count": 5,
   "metadata": {},
   "outputs": [],
   "source": [
    "# volcano_plot.py\n",
    "# creates volcano plot from RMA_pancreas.csv (generated using drop_duplicate_genes.py)\n",
    "\n",
    "from bioinfokit import analys, visuz\n",
    "import pandas as pd\n",
    "\n",
    "df = pd.read_csv('liver_final_drop.csv')\n",
    "df.dropna()\n",
    "\n",
    "visuz.gene_exp.volcano(df=df, lfc='logFC', pv='P.Value', geneid=\"SYMBOL\", plotlegend=True, legendpos='upper right',\n",
    "    legendanchor=(1.46,1))"
   ]
  },
  {
   "cell_type": "code",
   "execution_count": null,
   "metadata": {},
   "outputs": [],
   "source": []
  }
 ],
 "metadata": {
  "kernelspec": {
   "display_name": "Python 3",
   "language": "python",
   "name": "python3"
  },
  "language_info": {
   "codemirror_mode": {
    "name": "ipython",
    "version": 3
   },
   "file_extension": ".py",
   "mimetype": "text/x-python",
   "name": "python",
   "nbconvert_exporter": "python",
   "pygments_lexer": "ipython3",
   "version": "3.8.5"
  }
 },
 "nbformat": 4,
 "nbformat_minor": 4
}
