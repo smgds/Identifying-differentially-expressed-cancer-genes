{
 "cells": [
  {
   "cell_type": "code",
   "execution_count": 4,
   "metadata": {},
   "outputs": [
    {
     "name": "stdout",
     "output_type": "stream",
     "text": [
      "64\n",
      "SYMBOL           object\n",
      "RFC2            float64\n",
      "CCL5            float64\n",
      "PRR22           float64\n",
      "MSANTD3         float64\n",
      "                 ...   \n",
      "HEATR6          float64\n",
      "AP1M2           float64\n",
      "FKBP15          float64\n",
      "LOC100505915    float64\n",
      "ACSM5           float64\n",
      "Length: 8427, dtype: object\n",
      "64        RFC2         CCL5       PRR22     MSANTD3        TIMD4      SLC39A5  \\\n",
      "1   390.904146  2040.616226  161.151143  559.681643   760.351387  2686.967527   \n",
      "2   478.843612  1464.775337  116.973554  680.001738   880.673970  2462.037744   \n",
      "3   474.890204  2260.962037  144.129510  467.801470   575.453991  1850.902844   \n",
      "4   347.284462   682.659217  127.393739  404.577679  2571.214714  1211.592684   \n",
      "5   457.720982   580.378084   13.748601  626.986269   599.766569  1309.913230   \n",
      "\n",
      "64    ATP6V1E2         AK9    C15orf40       MFAP3  ...  MAPKAPK5-AS1  \\\n",
      "1   152.359353    4.129683  627.833198    4.704355  ...     43.123348   \n",
      "2   189.986487   12.332034  643.212004  125.720715  ...    130.952748   \n",
      "3   263.858447   23.142007  499.639248  144.193132  ...    320.930697   \n",
      "4   179.600339  158.683282  417.881354  105.639816  ...     76.977152   \n",
      "5   162.310170  127.586616  391.179273  136.772885  ...    132.987562   \n",
      "\n",
      "64       CORO1B        IRGQ      MOSPD2      HEATR6       AP1M2      FKBP15  \\\n",
      "1   1421.103541  260.305387  222.291376  275.742976   31.716356   35.482701   \n",
      "2   1762.333870  502.603375  273.457181  171.207949  165.642690   45.551416   \n",
      "3    832.575177  324.392846  402.097740  236.778859  185.467756  126.608650   \n",
      "4    657.296832  379.896526  263.366834  291.435693   19.930338   68.526671   \n",
      "5    635.881808  429.328506  393.033784  199.553576   11.682282   98.006088   \n",
      "\n",
      "64  LOC100505915        ACSM5  target  \n",
      "1     129.015951  8854.674583       0  \n",
      "2      19.935387  7830.479300       0  \n",
      "3     282.848310  6500.149450       0  \n",
      "4     196.597356  8097.660459       0  \n",
      "5     416.106527  3583.129785       0  \n",
      "\n",
      "[5 rows x 8427 columns]\n"
     ]
    }
   ],
   "source": [
    "# remove_rows.py\n",
    "# makes SYMBOL row header row\n",
    "# removes non-rma data rows\n",
    "\n",
    "import pandas as pd\n",
    "\n",
    "df = pd.read_csv(\"final_mas5_drop_liver_transposed.csv\")\n",
    "\n",
    "# make SYMBOL row the header\n",
    "header_row = 64\n",
    "df.columns = df.iloc[header_row]\n",
    "\n",
    "# drop rows without mas5 data\n",
    "df.drop(df.tail(8).index,\n",
    "        inplace = True)\n",
    "\n",
    "# convert all columns except PROBEID to numeric\n",
    "cols=[i for i in df.columns if i not in [\"SYMBOL\"]]\n",
    "for col in cols:\n",
    "    df[col]=pd.to_numeric(df[col])\n",
    "print(df.dtypes)\n",
    "\n",
    "# change rows names from sample IDs to numeric\n",
    "df.index = ['1', '2', '3', '4', '5', '6', '7', '8', '9', '10', '11', '12', '13', '14', '15', '16', '17', '18', '19', '20',\n",
    "            '21', '22', '23', '24', '25', '26', '27', '28', '29', '30', '31', '32', '33', '34', '35', '36', '37', '38', '39', '40',\n",
    "            '41', '42', '43', '44', '45', '46', '47', '48', '49', '50', '51', '52', '53', '54', '55', '56', '57', '58', '59', '60',\n",
    "            '61', '62', '63', '64']\n",
    "\n",
    "df.drop(df.columns[[0]], axis = 1, inplace = True)\n",
    "\n",
    "target = ['0', '0', '0', '0', '0', '0', '0', '0', '0', '0', '0', '0', '0', '0', '0', '0', '0', '0', '0', '0',\n",
    "          '0', '0', '0', '0', '0', '0', '0', '0', '0', '0', '0', '0',\n",
    "          '1', '1', '1', '1', '1', '1', '1', '1', '1', '1', '1', '1', '1', '1', '1', '1', '1', '1', '1', '1',\n",
    "          '1', '1', '1', '1', '1', '1', '1', '1', '1', '1', '1', '1']\n",
    "\n",
    "df['target'] = target\n",
    "print(df.head())\n",
    "\n",
    "df.to_csv('final_mas5_drop_liver_transposed_final.csv', index = False, header = True)"
   ]
  },
  {
   "cell_type": "code",
   "execution_count": null,
   "metadata": {},
   "outputs": [],
   "source": []
  }
 ],
 "metadata": {
  "kernelspec": {
   "display_name": "Python 3",
   "language": "python",
   "name": "python3"
  },
  "language_info": {
   "codemirror_mode": {
    "name": "ipython",
    "version": 3
   },
   "file_extension": ".py",
   "mimetype": "text/x-python",
   "name": "python",
   "nbconvert_exporter": "python",
   "pygments_lexer": "ipython3",
   "version": "3.8.5"
  }
 },
 "nbformat": 4,
 "nbformat_minor": 4
}
