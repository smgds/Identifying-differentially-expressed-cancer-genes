{
 "cells": [
  {
   "cell_type": "code",
   "execution_count": 3,
   "metadata": {},
   "outputs": [],
   "source": [
    "# merge_mas5_geneID.py\n",
    "# data from transpose.py\n",
    "# Data cleaning, join rma and gene ID data\n",
    "\n",
    "import pandas as pd\n",
    "\n",
    "# rma data from Pancreas_limma.R, transpose.py\n",
    "mas5 = pd.read_csv(\"mas5_liver_transposed.csv\")\n",
    "\n",
    "# remove leading X from PROBEID\n",
    "mas5['PROBEID'] = mas5['PROBEID'].str.replace('^X','')\n",
    "\n",
    "# gene ID data from Pancreas_limma.R\n",
    "gene = pd.read_csv(\"gene_ID.csv\")\n",
    "\n",
    "# inner join. removes rma data not found in gene_ID\n",
    "merged = pd.merge(mas5, gene)\n",
    "\n",
    "merged.to_csv('mas5_gene_liver.csv', index = False)"
   ]
  },
  {
   "cell_type": "code",
   "execution_count": null,
   "metadata": {},
   "outputs": [],
   "source": []
  }
 ],
 "metadata": {
  "kernelspec": {
   "display_name": "Python 3",
   "language": "python",
   "name": "python3"
  },
  "language_info": {
   "codemirror_mode": {
    "name": "ipython",
    "version": 3
   },
   "file_extension": ".py",
   "mimetype": "text/x-python",
   "name": "python",
   "nbconvert_exporter": "python",
   "pygments_lexer": "ipython3",
   "version": "3.8.5"
  }
 },
 "nbformat": 4,
 "nbformat_minor": 4
}
