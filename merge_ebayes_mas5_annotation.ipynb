{
 "cells": [
  {
   "cell_type": "code",
   "execution_count": 2,
   "metadata": {
    "scrolled": true
   },
   "outputs": [],
   "source": [
    "# merge_ebayes_mas5_annotation.py\n",
    "# data from merge__geneID.py (rma_gene_pancreas.csv) and drop_duplicate.gene.py (pancreas_final_drop.csv)\n",
    "# Data cleaning, join rma and gene ID data\n",
    "\n",
    "import pandas as pd\n",
    "\n",
    "# data from merge_rma_geneID.py\n",
    "mas5 = pd.read_csv(\"mas5_gene_liver.csv\")\n",
    "\n",
    "# remove leading X from PROBEID to match gene df\n",
    "mas5['PROBEID'] = mas5['PROBEID'].str.replace('^X','')\n",
    "\n",
    "# data from drop_duplicate.gene.py\n",
    "gene = pd.read_csv(\"liver_final_drop.csv\")\n",
    "\n",
    "# inner join. removes rma data not found in gene\n",
    "merged = pd.merge(mas5, gene)\n",
    "\n",
    "merged.to_csv('final_mas5_drop_liver.csv', index = False)\n"
   ]
  },
  {
   "cell_type": "code",
   "execution_count": null,
   "metadata": {},
   "outputs": [],
   "source": []
  },
  {
   "cell_type": "code",
   "execution_count": null,
   "metadata": {},
   "outputs": [],
   "source": []
  }
 ],
 "metadata": {
  "kernelspec": {
   "display_name": "Python 3",
   "language": "python",
   "name": "python3"
  },
  "language_info": {
   "codemirror_mode": {
    "name": "ipython",
    "version": 3
   },
   "file_extension": ".py",
   "mimetype": "text/x-python",
   "name": "python",
   "nbconvert_exporter": "python",
   "pygments_lexer": "ipython3",
   "version": "3.8.5"
  }
 },
 "nbformat": 4,
 "nbformat_minor": 4
}
