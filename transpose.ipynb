{
 "cells": [
  {
   "cell_type": "code",
   "execution_count": 5,
   "metadata": {},
   "outputs": [],
   "source": [
    "# transpose.py\n",
    "# data from mas5.R\n",
    "# transposes large dataframes\n",
    "\n",
    "import pandas as pd\n",
    "\n",
    "df = pd.read_csv(\"final_mas5_drop_liver.csv\")\n",
    "\n",
    "# transpose\n",
    "df = df.T\n",
    "\n",
    "df.to_csv('final_mas5_drop_liver_transposed.csv', index = True, header = False)"
   ]
  },
  {
   "cell_type": "code",
   "execution_count": null,
   "metadata": {},
   "outputs": [],
   "source": []
  }
 ],
 "metadata": {
  "kernelspec": {
   "display_name": "Python 3",
   "language": "python",
   "name": "python3"
  },
  "language_info": {
   "codemirror_mode": {
    "name": "ipython",
    "version": 3
   },
   "file_extension": ".py",
   "mimetype": "text/x-python",
   "name": "python",
   "nbconvert_exporter": "python",
   "pygments_lexer": "ipython3",
   "version": "3.8.5"
  }
 },
 "nbformat": 4,
 "nbformat_minor": 4
}
