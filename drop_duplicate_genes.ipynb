{
 "cells": [
  {
   "cell_type": "code",
   "execution_count": 1,
   "metadata": {},
   "outputs": [],
   "source": [
    "# data from Pancreas_limma.py output\n",
    "\n",
    "import pandas as pd\n",
    "\n",
    "df = pd.read_csv(\"liver_final.csv\")\n",
    "\n",
    "# removes rows with NA\n",
    "df = df.dropna()\n",
    "\n",
    "# Sorts by SYMBOL, then P.Value.\n",
    "df = df.sort_values([\"SYMBOL\", \"P.Value\"], ascending = (True, True))\n",
    "\n",
    "# Removes SYMBOL duplicates. Keeps gene with lowest p-value\n",
    "df.drop_duplicates(subset=['SYMBOL'], keep='first', inplace = True)\n",
    "\n",
    "# save to csv\n",
    "df.to_csv('liver_final_drop.csv', index = False)"
   ]
  },
  {
   "cell_type": "code",
   "execution_count": null,
   "metadata": {},
   "outputs": [],
   "source": []
  }
 ],
 "metadata": {
  "kernelspec": {
   "display_name": "Python 3",
   "language": "python",
   "name": "python3"
  },
  "language_info": {
   "codemirror_mode": {
    "name": "ipython",
    "version": 3
   },
   "file_extension": ".py",
   "mimetype": "text/x-python",
   "name": "python",
   "nbconvert_exporter": "python",
   "pygments_lexer": "ipython3",
   "version": "3.8.5"
  }
 },
 "nbformat": 4,
 "nbformat_minor": 4
}
